{
 "cells": [
  {
   "cell_type": "code",
   "execution_count": null,
   "id": "3afe2b3a-4d1b-47e4-8f4f-bab3668d0615",
   "metadata": {},
   "outputs": [],
   "source": []
  },
  {
   "cell_type": "code",
   "execution_count": 10,
   "id": "6e316f83-4daa-4296-bd6f-70f48f04bf92",
   "metadata": {},
   "outputs": [
    {
     "name": "stdout",
     "output_type": "stream",
     "text": [
      "Collecting lightgbm\n",
      "  Downloading lightgbm-4.6.0-py3-none-macosx_12_0_arm64.whl.metadata (17 kB)\n",
      "Requirement already satisfied: xgboost in /Users/munagalatarakanagaganesh/Annaconda/anaconda3/lib/python3.12/site-packages (3.0.0)\n",
      "Requirement already satisfied: imbalanced-learn in /Users/munagalatarakanagaganesh/Annaconda/anaconda3/lib/python3.12/site-packages (0.12.3)\n",
      "Requirement already satisfied: numpy>=1.17.0 in /Users/munagalatarakanagaganesh/Annaconda/anaconda3/lib/python3.12/site-packages (from lightgbm) (1.26.4)\n",
      "Requirement already satisfied: scipy in /Users/munagalatarakanagaganesh/Annaconda/anaconda3/lib/python3.12/site-packages (from lightgbm) (1.13.1)\n",
      "Requirement already satisfied: scikit-learn>=1.0.2 in /Users/munagalatarakanagaganesh/Annaconda/anaconda3/lib/python3.12/site-packages (from imbalanced-learn) (1.4.2)\n",
      "Requirement already satisfied: joblib>=1.1.1 in /Users/munagalatarakanagaganesh/Annaconda/anaconda3/lib/python3.12/site-packages (from imbalanced-learn) (1.4.2)\n",
      "Requirement already satisfied: threadpoolctl>=2.0.0 in /Users/munagalatarakanagaganesh/Annaconda/anaconda3/lib/python3.12/site-packages (from imbalanced-learn) (2.2.0)\n",
      "Downloading lightgbm-4.6.0-py3-none-macosx_12_0_arm64.whl (1.6 MB)\n",
      "\u001b[2K   \u001b[90m━━━━━━━━━━━━━━━━━━━━━━━━━━━━━━━━━━━━━━━━\u001b[0m \u001b[32m1.6/1.6 MB\u001b[0m \u001b[31m11.8 MB/s\u001b[0m eta \u001b[36m0:00:00\u001b[0ma \u001b[36m0:00:01\u001b[0m\n",
      "\u001b[?25hInstalling collected packages: lightgbm\n",
      "Successfully installed lightgbm-4.6.0\n",
      "Note: you may need to restart the kernel to use updated packages.\n"
     ]
    }
   ],
   "source": [
    "%pip install lightgbm xgboost imbalanced-learn\n"
   ]
  },
  {
   "cell_type": "code",
   "execution_count": 9,
   "id": "eb5e11ce-ca72-41f2-8c6c-0f88af8bb495",
   "metadata": {},
   "outputs": [],
   "source": [
    "import warnings, json, numpy as np, pandas as pd, matplotlib.pyplot as plt\n",
    "from pathlib import Path\n",
    "warnings.filterwarnings(\"ignore\")\n",
    "\n",
    "from sklearn.metrics import (\n",
    "    average_precision_score, roc_auc_score, precision_recall_curve, roc_curve,\n",
    "    confusion_matrix\n",
    ")\n",
    "from sklearn.preprocessing import RobustScaler\n",
    "from sklearn.dummy import DummyClassifier\n",
    "from sklearn.linear_model import LogisticRegression\n",
    "from imblearn.over_sampling import SMOTE\n",
    "from imblearn.pipeline import Pipeline as ImbPipeline\n",
    "\n",
    "import lightgbm as lgb\n",
    "import xgboost as xgb\n",
    "\n",
    "# Reproducibility + business settings\n",
    "RANDOM_STATE = 42\n",
    "PRECISION_FLOOR = 0.90      # target precision ≥ 90%\n",
    "TOP_K_FRACTION = 0.005      # review top 0.5% highest-risk transactions\n",
    "\n",
    "DATA_CSV = Path(\"PS_20174392719_1491204439457_log.csv\")  # <-- make sure your CSV is here\n",
    "ART_DIR = Path(\"artifacts\"); ART_DIR.mkdir(exist_ok=True)\n"
   ]
  },
  {
   "cell_type": "code",
   "execution_count": 19,
   "id": "49164bfe-2617-4ff6-81e8-0709d37e099d",
   "metadata": {},
   "outputs": [
    {
     "data": {
      "text/html": [
       "<div>\n",
       "<style scoped>\n",
       "    .dataframe tbody tr th:only-of-type {\n",
       "        vertical-align: middle;\n",
       "    }\n",
       "\n",
       "    .dataframe tbody tr th {\n",
       "        vertical-align: top;\n",
       "    }\n",
       "\n",
       "    .dataframe thead th {\n",
       "        text-align: right;\n",
       "    }\n",
       "</style>\n",
       "<table border=\"1\" class=\"dataframe\">\n",
       "  <thead>\n",
       "    <tr style=\"text-align: right;\">\n",
       "      <th></th>\n",
       "      <th>step</th>\n",
       "      <th>type</th>\n",
       "      <th>amount</th>\n",
       "      <th>nameOrig</th>\n",
       "      <th>oldbalanceOrg</th>\n",
       "      <th>newbalanceOrig</th>\n",
       "      <th>nameDest</th>\n",
       "      <th>oldbalanceDest</th>\n",
       "      <th>newbalanceDest</th>\n",
       "      <th>isFraud</th>\n",
       "      <th>isFlaggedFraud</th>\n",
       "    </tr>\n",
       "  </thead>\n",
       "  <tbody>\n",
       "    <tr>\n",
       "      <th>0</th>\n",
       "      <td>1</td>\n",
       "      <td>PAYMENT</td>\n",
       "      <td>9839.64</td>\n",
       "      <td>C1231006815</td>\n",
       "      <td>170136.0</td>\n",
       "      <td>160296.36</td>\n",
       "      <td>M1979787155</td>\n",
       "      <td>0.0</td>\n",
       "      <td>0.0</td>\n",
       "      <td>0</td>\n",
       "      <td>0</td>\n",
       "    </tr>\n",
       "    <tr>\n",
       "      <th>1</th>\n",
       "      <td>1</td>\n",
       "      <td>PAYMENT</td>\n",
       "      <td>1864.28</td>\n",
       "      <td>C1666544295</td>\n",
       "      <td>21249.0</td>\n",
       "      <td>19384.72</td>\n",
       "      <td>M2044282225</td>\n",
       "      <td>0.0</td>\n",
       "      <td>0.0</td>\n",
       "      <td>0</td>\n",
       "      <td>0</td>\n",
       "    </tr>\n",
       "    <tr>\n",
       "      <th>2</th>\n",
       "      <td>1</td>\n",
       "      <td>TRANSFER</td>\n",
       "      <td>181.00</td>\n",
       "      <td>C1305486145</td>\n",
       "      <td>181.0</td>\n",
       "      <td>0.00</td>\n",
       "      <td>C553264065</td>\n",
       "      <td>0.0</td>\n",
       "      <td>0.0</td>\n",
       "      <td>1</td>\n",
       "      <td>0</td>\n",
       "    </tr>\n",
       "    <tr>\n",
       "      <th>3</th>\n",
       "      <td>1</td>\n",
       "      <td>CASH_OUT</td>\n",
       "      <td>181.00</td>\n",
       "      <td>C840083671</td>\n",
       "      <td>181.0</td>\n",
       "      <td>0.00</td>\n",
       "      <td>C38997010</td>\n",
       "      <td>21182.0</td>\n",
       "      <td>0.0</td>\n",
       "      <td>1</td>\n",
       "      <td>0</td>\n",
       "    </tr>\n",
       "    <tr>\n",
       "      <th>4</th>\n",
       "      <td>1</td>\n",
       "      <td>PAYMENT</td>\n",
       "      <td>11668.14</td>\n",
       "      <td>C2048537720</td>\n",
       "      <td>41554.0</td>\n",
       "      <td>29885.86</td>\n",
       "      <td>M1230701703</td>\n",
       "      <td>0.0</td>\n",
       "      <td>0.0</td>\n",
       "      <td>0</td>\n",
       "      <td>0</td>\n",
       "    </tr>\n",
       "  </tbody>\n",
       "</table>\n",
       "</div>"
      ],
      "text/plain": [
       "   step      type    amount     nameOrig  oldbalanceOrg  newbalanceOrig  \\\n",
       "0     1   PAYMENT   9839.64  C1231006815       170136.0       160296.36   \n",
       "1     1   PAYMENT   1864.28  C1666544295        21249.0        19384.72   \n",
       "2     1  TRANSFER    181.00  C1305486145          181.0            0.00   \n",
       "3     1  CASH_OUT    181.00   C840083671          181.0            0.00   \n",
       "4     1   PAYMENT  11668.14  C2048537720        41554.0        29885.86   \n",
       "\n",
       "      nameDest  oldbalanceDest  newbalanceDest  isFraud  isFlaggedFraud  \n",
       "0  M1979787155             0.0             0.0        0               0  \n",
       "1  M2044282225             0.0             0.0        0               0  \n",
       "2   C553264065             0.0             0.0        1               0  \n",
       "3    C38997010         21182.0             0.0        1               0  \n",
       "4  M1230701703             0.0             0.0        0               0  "
      ]
     },
     "execution_count": 19,
     "metadata": {},
     "output_type": "execute_result"
    }
   ],
   "source": [
    "import pandas as pd\n",
    "from pathlib import Path\n",
    "\n",
    "# Full path to your PaySim CSV\n",
    "DATA_CSV = Path(\"/Users/munagalatarakanagaganesh/Documents/Credit card Fraud detection/data/PS_20174392719_1491204439457_log.csv\")\n",
    "\n",
    "assert DATA_CSV.exists(), \"Check the file path again\"\n",
    "df = pd.read_csv(DATA_CSV, dtype={\n",
    "    \"nameOrig\": \"category\",\n",
    "    \"nameDest\": \"category\",\n",
    "    \"type\": \"category\"\n",
    "})\n",
    "\n",
    "df.head()\n"
   ]
  },
  {
   "cell_type": "markdown",
   "id": "4ae51ef1-f384-4f8c-b72c-afbed4207800",
   "metadata": {},
   "source": [
    "## Basic check "
   ]
  },
  {
   "cell_type": "code",
   "execution_count": 22,
   "id": "b588c70f-0abd-495b-b580-10176f2cb1b7",
   "metadata": {},
   "outputs": [
    {
     "name": "stdout",
     "output_type": "stream",
     "text": [
      "Shape: (6362620, 11)\n",
      "\n",
      "Data types & memory usage:\n",
      "<class 'pandas.core.frame.DataFrame'>\n",
      "RangeIndex: 6362620 entries, 0 to 6362619\n",
      "Data columns (total 11 columns):\n",
      " #   Column          Dtype   \n",
      "---  ------          -----   \n",
      " 0   step            int64   \n",
      " 1   type            category\n",
      " 2   amount          float64 \n",
      " 3   nameOrig        category\n",
      " 4   oldbalanceOrg   float64 \n",
      " 5   newbalanceOrig  float64 \n",
      " 6   nameDest        category\n",
      " 7   oldbalanceDest  float64 \n",
      " 8   newbalanceDest  float64 \n",
      " 9   isFraud         int64   \n",
      " 10  isFlaggedFraud  int64   \n",
      "dtypes: category(3), float64(5), int64(3)\n",
      "memory usage: 1.1 GB\n",
      "None\n",
      "\n",
      "Missing values per column:\n",
      "step              0\n",
      "type              0\n",
      "amount            0\n",
      "nameOrig          0\n",
      "oldbalanceOrg     0\n",
      "newbalanceOrig    0\n",
      "nameDest          0\n",
      "oldbalanceDest    0\n",
      "newbalanceDest    0\n",
      "isFraud           0\n",
      "isFlaggedFraud    0\n",
      "dtype: int64\n",
      "\n",
      "Fraud rate: 0.1291%\n",
      "\n",
      "Value counts for isFraud:\n",
      "isFraud\n",
      "0    0.998709\n",
      "1    0.001291\n",
      "Name: proportion, dtype: float64\n",
      "\n",
      "Transaction type distribution:\n",
      "type\n",
      "CASH_OUT    0.351663\n",
      "PAYMENT     0.338146\n",
      "CASH_IN     0.219923\n",
      "TRANSFER    0.083756\n",
      "DEBIT       0.006512\n",
      "Name: proportion, dtype: float64\n"
     ]
    }
   ],
   "source": [
    "# Shape, info, missing values\n",
    "print(\"Shape:\", df.shape)\n",
    "print(\"\\nData types & memory usage:\")\n",
    "print(df.info(memory_usage=\"deep\"))\n",
    "\n",
    "print(\"\\nMissing values per column:\")\n",
    "print(df.isna().sum())\n",
    "\n",
    "# Fraud distribution\n",
    "fraud_rate = df[\"isFraud\"].mean() * 100\n",
    "print(f\"\\nFraud rate: {fraud_rate:.4f}%\")\n",
    "\n",
    "print(\"\\nValue counts for isFraud:\")\n",
    "print(df[\"isFraud\"].value_counts(normalize=True))\n",
    "\n",
    "# Quick check of 'type' (transaction type)\n",
    "print(\"\\nTransaction type distribution:\")\n",
    "print(df[\"type\"].value_counts(normalize=True))\n"
   ]
  },
  {
   "cell_type": "markdown",
   "id": "9d3627f9-8b1c-4c09-ac7a-abcc95d79616",
   "metadata": {},
   "source": [
    "# EDA DATA visualization "
   ]
  },
  {
   "cell_type": "code",
   "execution_count": 26,
   "id": "24d78b53-c573-46ed-b0d1-193fc7ab8440",
   "metadata": {},
   "outputs": [
    {
     "data": {
      "image/png": "[encoded data removed]",
      "text/plain": [
       "<Figure size 800x500 with 1 Axes>"
      ]
     },
     "metadata": {},
     "output_type": "display_data"
    },
    {
     "data": {
      "image/png": "[encoded data removed]",
      "text/plain": [
       "<Figure size 500x400 with 1 Axes>"
      ]
     },
     "metadata": {},
     "output_type": "display_data"
    },
    {
     "data": {
      "image/png": "[encoded data removed]",
      "text/plain": [
       "<Figure size 800x500 with 1 Axes>"
      ]
     },
     "metadata": {},
     "output_type": "display_data"
    }
   ],
   "source": [
    "import matplotlib.pyplot as plt\n",
    "import seaborn as sns\n",
    "\n",
    "# --- Transaction amount distribution ---\n",
    "plt.figure(figsize=(8,5))\n",
    "sns.histplot(df['amount'], bins=100, log_scale=(False, True))\n",
    "plt.title(\"Transaction Amount Distribution (log scale on y-axis)\")\n",
    "plt.xlabel(\"Amount\")\n",
    "plt.ylabel(\"Count\")\n",
    "plt.show()\n",
    "\n",
    "# --- Fraud vs Non-Fraud counts ---\n",
    "plt.figure(figsize=(5,4))\n",
    "sns.countplot(x=\"isFraud\", data=df)\n",
    "plt.title(\"Fraud vs Non-Fraud Transactions\")\n",
    "plt.show()\n",
    "\n",
    "# --- Fraud rate by transaction type ---\n",
    "fraud_by_type = df.groupby(\"type\")[\"isFraud\"].mean() * 100\n",
    "plt.figure(figsize=(8,5))\n",
    "fraud_by_type.sort_values(ascending=False).plot(kind=\"bar\")\n",
    "plt.ylabel(\"Fraud Rate (%)\")\n",
    "plt.title(\"Fraud Rate by Transaction Type\")\n",
    "plt.show()\n"
   ]
  },
  {
   "cell_type": "markdown",
   "id": "7a87b342-ef7f-4da2-8119-4e5955dc6322",
   "metadata": {},
   "source": [
    "## Feature Selection and Preprocessing"
   ]
  },
  {
   "cell_type": "code",
   "execution_count": 29,
   "id": "dc0eb82d-2d53-4066-bf09-2dcda713f057",
   "metadata": {},
   "outputs": [
    {
     "name": "stdout",
     "output_type": "stream",
     "text": [
      "Features: ['step', 'type', 'amount', 'oldbalanceOrg', 'newbalanceOrig', 'oldbalanceDest', 'newbalanceDest']\n",
      "Target distribution:\n",
      " isFraud\n",
      "0    0.998709\n",
      "1    0.001291\n",
      "Name: proportion, dtype: float64\n"
     ]
    }
   ],
   "source": [
    "from sklearn.preprocessing import LabelEncoder\n",
    "\n",
    "# Drop ID-like columns\n",
    "df_prep = df.drop(columns=[\"nameOrig\", \"nameDest\", \"isFlaggedFraud\"])\n",
    "\n",
    "# Encode 'type' as numeric\n",
    "le = LabelEncoder()\n",
    "df_prep[\"type\"] = le.fit_transform(df_prep[\"type\"])\n",
    "\n",
    "# Define features & target\n",
    "X = df_prep.drop(columns=[\"isFraud\"])\n",
    "y = df_prep[\"isFraud\"]\n",
    "\n",
    "print(\"Features:\", X.columns.tolist())\n",
    "print(\"Target distribution:\\n\", y.value_counts(normalize=True))\n"
   ]
  },
  {
   "cell_type": "code",
   "execution_count": 31,
   "id": "3f2a068e-956e-4ebc-a52d-3319b7d634c6",
   "metadata": {},
   "outputs": [
    {
     "name": "stdout",
     "output_type": "stream",
     "text": [
      "Train/Val shape: (5090096, 8)\n",
      "Test shape: (1272524, 8)\n",
      "Fraud rate Train/Val: 0.07777849376514706 %\n",
      "Fraud rate Test: 0.33429624902948785 %\n"
     ]
    }
   ],
   "source": [
    "# Sort by step (time order)\n",
    "df_prep = df_prep.sort_values(\"step\").reset_index(drop=True)\n",
    "\n",
    "n = len(df_prep)\n",
    "cut = int(0.8 * n)\n",
    "\n",
    "train_val = df_prep.iloc[:cut]\n",
    "test     = df_prep.iloc[cut:]\n",
    "\n",
    "print(\"Train/Val shape:\", train_val.shape)\n",
    "print(\"Test shape:\", test.shape)\n",
    "\n",
    "# Separate X and y\n",
    "X_train_val = train_val.drop(columns=[\"isFraud\"])\n",
    "y_train_val = train_val[\"isFraud\"]\n",
    "\n",
    "X_test = test.drop(columns=[\"isFraud\"])\n",
    "y_test = test[\"isFraud\"]\n",
    "\n",
    "print(\"Fraud rate Train/Val:\", y_train_val.mean()*100, \"%\")\n",
    "print(\"Fraud rate Test:\", y_test.mean()*100, \"%\")\n"
   ]
  },
  {
   "cell_type": "markdown",
   "id": "d670bd26-3301-4162-929d-8d5f297f61df",
   "metadata": {},
   "source": [
    "## Validatoin split + Baseline models"
   ]
  },
  {
   "cell_type": "code",
   "execution_count": 36,
   "id": "f9b5e329-c332-4913-ba41-57fd0bebaeca",
   "metadata": {},
   "outputs": [
    {
     "name": "stdout",
     "output_type": "stream",
     "text": [
      "Train shape: (4453834, 8)\n",
      "Val shape: (636262, 8)\n",
      "Test shape: (1272524, 8)\n",
      "Fraud rate Train: 0.08170488617222824 %\n",
      "Fraud rate Val: 0.05029374691557881 %\n",
      "Fraud rate Test: 0.33429624902948785 %\n"
     ]
    }
   ],
   "source": [
    "n = len(df_prep)\n",
    "\n",
    "train_end = int(0.7 * n)       # first 70% → Train\n",
    "val_end   = int(0.8 * n)       # next 10% → Validation\n",
    "# last 20% → Test\n",
    "\n",
    "train = df_prep.iloc[:train_end]\n",
    "val   = df_prep.iloc[train_end:val_end]\n",
    "test  = df_prep.iloc[val_end:]\n",
    "\n",
    "print(\"Train shape:\", train.shape)\n",
    "print(\"Val shape:\", val.shape)\n",
    "print(\"Test shape:\", test.shape)\n",
    "\n",
    "# Features & targets\n",
    "X_train, y_train = train.drop(columns=[\"isFraud\"]), train[\"isFraud\"]\n",
    "X_val,   y_val   = val.drop(columns=[\"isFraud\"]), val[\"isFraud\"]\n",
    "X_test,  y_test  = test.drop(columns=[\"isFraud\"]), test[\"isFraud\"]\n",
    "\n",
    "print(\"Fraud rate Train:\", y_train.mean()*100, \"%\")\n",
    "print(\"Fraud rate Val:\", y_val.mean()*100, \"%\")\n",
    "print(\"Fraud rate Test:\", y_test.mean()*100, \"%\")\n"
   ]
  },
  {
   "cell_type": "markdown",
   "id": "d35c478c-9f32-4995-a0c8-2f78c59579c5",
   "metadata": {},
   "source": [
    "## Baseline Models "
   ]
  },
  {
   "cell_type": "markdown",
   "id": "8954d157-cd0f-467d-9b60-464ba19c0fad",
   "metadata": {},
   "source": [
    "## Dummy Classifier(sanity check)"
   ]
  },
  {
   "cell_type": "code",
   "execution_count": 40,
   "id": "dae3f5bf-fb77-412d-9ee9-5cc4ebe2507e",
   "metadata": {},
   "outputs": [
    {
     "name": "stdout",
     "output_type": "stream",
     "text": [
      "Dummy PR-AUC (val): 0.0005029374691557881\n",
      "Dummy ROC-AUC (val): 0.5\n"
     ]
    }
   ],
   "source": [
    "from sklearn.dummy import DummyClassifier\n",
    "from sklearn.metrics import average_precision_score, roc_auc_score\n",
    "\n",
    "dummy = DummyClassifier(strategy=\"most_frequent\", random_state=42)\n",
    "dummy.fit(X_train, y_train)\n",
    "\n",
    "val_scores_dummy = dummy.predict_proba(X_val)[:,1]\n",
    "\n",
    "print(\"Dummy PR-AUC (val):\", average_precision_score(y_val, val_scores_dummy))\n",
    "print(\"Dummy ROC-AUC (val):\", roc_auc_score(y_val, val_scores_dummy))\n"
   ]
  },
  {
   "cell_type": "markdown",
   "id": "0b9c2f0c-1c1f-45f6-9abf-7eb3f2c60d32",
   "metadata": {},
   "source": [
    "## Logistic regression "
   ]
  },
  {
   "cell_type": "code",
   "execution_count": 46,
   "id": "5d41280b-8d61-4d8c-9f78-eae6593a7706",
   "metadata": {},
   "outputs": [
    {
     "name": "stdout",
     "output_type": "stream",
     "text": [
      "LogReg (class_weight='balanced')  PR-AUC (val): 0.422284946095014\n",
      "LogReg (class_weight='balanced')  ROC-AUC (val): 0.9802100589558481\n"
     ]
    }
   ],
   "source": [
    "from sklearn.linear_model import LogisticRegression\n",
    "from sklearn.preprocessing import RobustScaler\n",
    "from sklearn.pipeline import Pipeline\n",
    "from sklearn.metrics import average_precision_score, roc_auc_score\n",
    "\n",
    "# Scale (robust to outliers) → Logistic Regression with class weights\n",
    "lr_balanced = Pipeline(steps=[\n",
    "    (\"scale\", RobustScaler()),\n",
    "    (\"clf\", LogisticRegression(max_iter=2000, solver=\"saga\", class_weight=\"balanced\", n_jobs=-1))\n",
    "])\n",
    "\n",
    "# Train on the 70% train split\n",
    "lr_balanced.fit(X_train, y_train)\n",
    "\n",
    "# Validate on the 10% val split\n",
    "val_scores_lr_bal = lr_balanced.predict_proba(X_val)[:, 1]\n",
    "print(\"LogReg (class_weight='balanced')  PR-AUC (val):\", average_precision_score(y_val, val_scores_lr_bal))\n",
    "print(\"LogReg (class_weight='balanced')  ROC-AUC (val):\", roc_auc_score(y_val, val_scores_lr_bal))\n"
   ]
  },
  {
   "cell_type": "markdown",
   "id": "b4c0320a-f094-418e-9e13-b98101a560fd",
   "metadata": {},
   "source": [
    "## LightGBM Model "
   ]
  },
  {
   "cell_type": "code",
   "execution_count": 53,
   "id": "918e899e-a320-4a03-9134-be55fa9a46ec",
   "metadata": {},
   "outputs": [
    {
     "name": "stdout",
     "output_type": "stream",
     "text": [
      "[LightGBM] [Info] Number of positive: 3639, number of negative: 4450195\n",
      "[LightGBM] [Info] Auto-choosing row-wise multi-threading, the overhead of testing was 0.006458 seconds.\n",
      "You can set `force_row_wise=true` to remove the overhead.\n",
      "And if memory is not enough, you can set `force_col_wise=true`.\n",
      "[LightGBM] [Info] Total Bins 1495\n",
      "[LightGBM] [Info] Number of data points in the train set: 4453834, number of used features: 7\n",
      "[LightGBM] [Info] [binary:BoostFromScore]: pavg=0.500000 -> initscore=-0.000000\n",
      "[LightGBM] [Info] Start training from score -0.000000\n",
      "Training until validation scores don't improve for 50 rounds\n",
      "[50]\tvalid_0's binary_logloss: 0.0635119\n",
      "[100]\tvalid_0's binary_logloss: 0.0159314\n",
      "[150]\tvalid_0's binary_logloss: 0.0100071\n",
      "[200]\tvalid_0's binary_logloss: 0.00610394\n",
      "[250]\tvalid_0's binary_logloss: 0.00382712\n",
      "[300]\tvalid_0's binary_logloss: 0.00257071\n",
      "[350]\tvalid_0's binary_logloss: 0.00207595\n",
      "[400]\tvalid_0's binary_logloss: 0.00170247\n",
      "[450]\tvalid_0's binary_logloss: 0.00149834\n",
      "[500]\tvalid_0's binary_logloss: 0.00130556\n",
      "Did not meet early stopping. Best iteration is:\n",
      "[500]\tvalid_0's binary_logloss: 0.00130556\n",
      "LightGBM PR-AUC (val): 0.8552757191810286\n",
      "LightGBM ROC-AUC (val): 0.9997756281233193\n"
     ]
    }
   ],
   "source": [
    "import lightgbm as lgb\n",
    "from sklearn.metrics import average_precision_score, roc_auc_score\n",
    "\n",
    "lgbm = lgb.LGBMClassifier(\n",
    "    n_estimators=500,\n",
    "    learning_rate=0.05,\n",
    "    num_leaves=64,\n",
    "    max_depth=-1,\n",
    "    subsample=0.9,\n",
    "    colsample_bytree=0.9,\n",
    "    class_weight=\"balanced\",\n",
    "    random_state=42,\n",
    "    n_jobs=-1\n",
    ")\n",
    "\n",
    "# Use callbacks for early stopping and verbose logging\n",
    "lgbm.fit(\n",
    "    X_train, y_train,\n",
    "    eval_set=[(X_val, y_val)],\n",
    "    eval_metric=\"aucpr\",\n",
    "    callbacks=[\n",
    "        lgb.early_stopping(stopping_rounds=50),\n",
    "        lgb.log_evaluation(50)\n",
    "    ]\n",
    ")\n",
    "\n",
    "val_scores_lgb = lgbm.predict_proba(X_val)[:, 1]\n",
    "print(\"LightGBM PR-AUC (val):\", average_precision_score(y_val, val_scores_lgb))\n",
    "print(\"LightGBM ROC-AUC (val):\", roc_auc_score(y_val, val_scores_lgb))\n"
   ]
  },
  {
   "cell_type": "code",
   "execution_count": 55,
   "id": "e15987e8-0571-4b04-9412-a997887f50ec",
   "metadata": {},
   "outputs": [
    {
     "name": "stdout",
     "output_type": "stream",
     "text": [
      "Chosen Threshold: 0.965180762582557\n"
     ]
    }
   ],
   "source": [
    "from sklearn.metrics import precision_recall_curve\n",
    "\n",
    "def choose_threshold(y_true, y_score, precision_floor=0.90):\n",
    "    prec, rec, thr = precision_recall_curve(y_true, y_score)\n",
    "    import pandas as pd, numpy as np\n",
    "    df = pd.DataFrame({\n",
    "        \"threshold\": np.append(thr, thr[-1]),\n",
    "        \"precision\": prec,\n",
    "        \"recall\": rec\n",
    "    })\n",
    "    df = df[df[\"precision\"] >= precision_floor]\n",
    "    if len(df) == 0:\n",
    "        return 0.5  # fallback\n",
    "    best = df.sort_values([\"recall\",\"precision\"], ascending=[False, False]).iloc[0]\n",
    "    return float(best[\"threshold\"])\n",
    "\n",
    "# Pick threshold on validation set (precision ≥ 90%)\n",
    "thr = choose_threshold(y_val, val_scores_lgb, precision_floor=0.90)\n",
    "print(\"Chosen Threshold:\", thr)\n"
   ]
  },
  {
   "cell_type": "markdown",
   "id": "6a371eff-1f4c-4fde-a00c-7c53096b8d3d",
   "metadata": {},
   "source": [
    "## Evaluate on Test set "
   ]
  },
  {
   "cell_type": "code",
   "execution_count": 64,
   "id": "775eacad-eada-45d7-924a-a146ecfdd83d",
   "metadata": {},
   "outputs": [
    {
     "name": "stdout",
     "output_type": "stream",
     "text": [
      "PR-AUC (TEST): 0.96368243991209\n",
      "ROC-AUC (TEST): 0.9994804232823414\n",
      "Threshold used: 0.965180762582557\n",
      "Confusion Matrix (TEST):\n",
      " [[1268221      49]\n",
      " [   1051    3203]]\n",
      "Precision (TEST): 0.9849323493234933\n",
      "Recall (TEST): 0.7529384109073813\n",
      "Precision@top 0.5% (TEST): 0.6541967934611758\n"
     ]
    },
    {
     "data": {
      "image/png": "[encoded data removed]",
      "text/plain": [
       "<Figure size 640x480 with 1 Axes>"
      ]
     },
     "metadata": {},
     "output_type": "display_data"
    },
    {
     "data": {
      "image/png": "[encoded data removed]",
      "text/plain": [
       "<Figure size 640x480 with 1 Axes>"
      ]
     },
     "metadata": {},
     "output_type": "display_data"
    }
   ],
   "source": [
    "from sklearn.metrics import (\n",
    "    average_precision_score, roc_auc_score, precision_recall_curve,\n",
    "    roc_curve, confusion_matrix, precision_score, recall_score\n",
    ")\n",
    "import matplotlib.pyplot as plt\n",
    "import numpy as np\n",
    "\n",
    "# 1) Probabilities on TEST\n",
    "test_scores = lgbm.predict_proba(X_test)[:, 1]\n",
    "\n",
    "# 2) Metrics (probability-based)\n",
    "pr_auc_test  = average_precision_score(y_test, test_scores)\n",
    "roc_auc_test = roc_auc_score(y_test, test_scores)\n",
    "print(\"PR-AUC (TEST):\", pr_auc_test)\n",
    "print(\"ROC-AUC (TEST):\", roc_auc_test)\n",
    "\n",
    "# 3) Apply threshold from validation\n",
    "y_pred = (test_scores >= thr).astype(int)\n",
    "\n",
    "# 4) Confusion matrix + precision/recall at threshold\n",
    "cm = confusion_matrix(y_test, y_pred)\n",
    "prec = precision_score(y_test, y_pred, zero_division=0)\n",
    "rec  = recall_score(y_test, y_pred, zero_division=0)\n",
    "print(\"Threshold used:\", thr)\n",
    "print(\"Confusion Matrix (TEST):\\n\", cm)\n",
    "print(\"Precision (TEST):\", prec)\n",
    "print(\"Recall (TEST):\", rec)\n",
    "\n",
    "# 5) Optional: Precision@top-k (e.g., review top 0.5%)\n",
    "def precision_at_k(y_true, y_score, k_fraction=0.005):\n",
    "    n = max(1, int(len(y_score) * k_fraction))\n",
    "    idx = np.argsort(y_score)[::-1][:n]\n",
    "    return float(np.mean(np.array(y_true)[idx]))\n",
    "\n",
    "pk = precision_at_k(y_test.values, test_scores, k_fraction=0.005)\n",
    "print(\"Precision@top 0.5% (TEST):\", pk)\n",
    "\n",
    "# 6) Curves\n",
    "prec_curve, rec_curve, _ = precision_recall_curve(y_test, test_scores)\n",
    "plt.figure(); plt.plot(rec_curve, prec_curve)\n",
    "plt.xlabel(\"Recall\"); plt.ylabel(\"Precision\"); plt.title(\"Precision–Recall (TEST)\"); plt.show()\n",
    "\n",
    "fpr, tpr, _ = roc_curve(y_test, test_scores)\n",
    "plt.figure(); plt.plot(fpr, tpr)\n",
    "plt.xlabel(\"FPR\"); plt.ylabel(\"TPR\"); plt.title(\"ROC (TEST)\"); plt.show()"
   ]
  },
  {
   "cell_type": "code",
   "execution_count": 59,
   "id": "4ce6b15b-2cde-4a7a-98a1-d896f5959ff9",
   "metadata": {},
   "outputs": [
    {
     "name": "stdout",
     "output_type": "stream",
     "text": [
      "Expected Cost (TEST): $ 157895.0\n"
     ]
    }
   ],
   "source": [
    "FP_COST = 5.0     # e.g., human review cost ($)\n",
    "FN_COST = 150.0   # e.g., average loss if fraud is missed\n",
    "\n",
    "tn, fp, fn, tp = cm.ravel()\n",
    "expected_cost = fp*FP_COST + fn*FN_COST\n",
    "print(\"Expected Cost (TEST): $\", expected_cost)\n"
   ]
  },
  {
   "cell_type": "code",
   "execution_count": 66,
   "id": "bfa4f5a1-3259-4502-9e17-7a1efc2a482c",
   "metadata": {},
   "outputs": [
    {
     "name": "stdout",
     "output_type": "stream",
     "text": [
      "Model + metrics saved in artifacts/\n"
     ]
    }
   ],
   "source": [
    "import joblib, json\n",
    "\n",
    "# Save model\n",
    "joblib.dump(lgbm, \"artifacts/model_lgbm.joblib\")\n",
    "\n",
    "# Save metrics\n",
    "metrics = {\n",
    "    \"val\": {\n",
    "        \"pr_auc\": float(average_precision_score(y_val, val_scores_lgb)),\n",
    "        \"roc_auc\": float(roc_auc_score(y_val, val_scores_lgb))\n",
    "    },\n",
    "    \"test\": {\n",
    "        \"pr_auc\": float(pr_auc_test),\n",
    "        \"roc_auc\": float(roc_auc_test),\n",
    "        \"precision\": float(prec),\n",
    "        \"recall\": float(rec),\n",
    "        \"precision_at_0.5%\": float(pk),\n",
    "        \"threshold\": float(thr),\n",
    "        \"confusion_matrix\": cm.tolist()\n",
    "    },\n",
    "    \"expected_cost\": float(expected_cost)\n",
    "}\n",
    "with open(\"artifacts/metrics.json\", \"w\") as f:\n",
    "    json.dump(metrics, f, indent=2)\n",
    "\n",
    "print(\"Model + metrics saved in artifacts/\")\n"
   ]
  },
  {
   "cell_type": "code",
   "execution_count": null,
   "id": "155e6b11-9c69-4e8b-bb12-ff02e7a93086",
   "metadata": {},
   "outputs": [],
   "source": []
  },
  {
   "cell_type": "code",
   "execution_count": null,
   "id": "d1c9843f-e7db-4a75-96a3-fda49e72ade8",
   "metadata": {},
   "outputs": [],
   "source": []
  },
  {
   "cell_type": "code",
   "execution_count": null,
   "id": "d3a90eb1-410c-4c28-8fa8-1ec572e1c096",
   "metadata": {},
   "outputs": [],
   "source": []
  },
  {
   "cell_type": "code",
   "execution_count": null,
   "id": "f4067a67-343b-4e9a-a0af-bd306c7cba54",
   "metadata": {},
   "outputs": [],
   "source": [
    "# Github"
   ]
  },
  {
   "cell_type": "code",
   "execution_count": 68,
   "id": "b3afe941-0499-478a-a0cc-a0f5e1b508b3",
   "metadata": {},
   "outputs": [
    {
     "name": "stdout",
     "output_type": "stream",
     "text": [
      "Saved: pr_curve_test.png, roc_curve_test.png, confusion_matrix_test.png\n"
     ]
    }
   ],
   "source": [
    "from pathlib import Path\n",
    "import numpy as np\n",
    "import matplotlib.pyplot as plt\n",
    "from sklearn.metrics import precision_recall_curve, roc_curve, confusion_matrix\n",
    "\n",
    "ART_DIR = Path(\"artifacts\"); ART_DIR.mkdir(exist_ok=True)\n",
    "\n",
    "# --- PR curve (TEST)\n",
    "prec_curve, rec_curve, _ = precision_recall_curve(y_test, test_scores)\n",
    "plt.figure()\n",
    "plt.plot(rec_curve, prec_curve)\n",
    "plt.xlabel(\"Recall\"); plt.ylabel(\"Precision\"); plt.title(\"Precision–Recall (TEST)\")\n",
    "plt.tight_layout(); plt.savefig(ART_DIR / \"pr_curve_test.png\"); plt.close()\n",
    "\n",
    "# --- ROC curve (TEST)\n",
    "fpr, tpr, _ = roc_curve(y_test, test_scores)\n",
    "plt.figure()\n",
    "plt.plot(fpr, tpr)\n",
    "plt.xlabel(\"False Positive Rate\"); plt.ylabel(\"True Positive Rate\"); plt.title(\"ROC (TEST)\")\n",
    "plt.tight_layout(); plt.savefig(ART_DIR / \"roc_curve_test.png\"); plt.close()\n",
    "\n",
    "# --- Confusion matrix heatmap at chosen threshold\n",
    "cm = confusion_matrix(y_test, y_pred)\n",
    "tn, fp, fn, tp = cm.ravel()\n",
    "plt.figure()\n",
    "plt.imshow(cm, interpolation=\"nearest\")\n",
    "plt.title(\"Confusion Matrix (TEST)\")\n",
    "plt.colorbar()\n",
    "tick_marks = [0,1]\n",
    "plt.xticks(tick_marks, [\"Legit\",\"Fraud\"]); plt.yticks(tick_marks, [\"Legit\",\"Fraud\"])\n",
    "for (i, j), v in np.ndenumerate(cm):\n",
    "    plt.text(j, i, str(v), ha=\"center\", va=\"center\")\n",
    "plt.xlabel(\"Predicted\"); plt.ylabel(\"Actual\")\n",
    "plt.tight_layout(); plt.savefig(ART_DIR / \"confusion_matrix_test.png\"); plt.close()\n",
    "\n",
    "print(\"Saved: pr_curve_test.png, roc_curve_test.png, confusion_matrix_test.png\")\n"
   ]
  },
  {
   "cell_type": "code",
   "execution_count": 70,
   "id": "be6f14a9-9eb8-4f36-9ee2-7550cc84612c",
   "metadata": {},
   "outputs": [
    {
     "name": "stdout",
     "output_type": "stream",
     "text": [
      "Saved: model_lgbm.joblib, metrics.json\n"
     ]
    }
   ],
   "source": [
    "import json, joblib\n",
    "\n",
    "joblib.dump(lgbm, ART_DIR / \"model_lgbm.joblib\")\n",
    "\n",
    "metrics = {\n",
    "    \"val\": {\n",
    "        \"pr_auc\": float(average_precision_score(y_val, val_scores_lgb)),\n",
    "        \"roc_auc\": float(roc_auc_score(y_val, val_scores_lgb))\n",
    "    },\n",
    "    \"test\": {\n",
    "        \"pr_auc\": float(pr_auc_test),\n",
    "        \"roc_auc\": float(roc_auc_test),\n",
    "        \"precision\": float(prec),\n",
    "        \"recall\": float(rec),\n",
    "        \"precision_at_0.5pct\": float(pk),\n",
    "        \"threshold\": float(thr),\n",
    "        \"confusion_matrix\": cm.tolist()\n",
    "    }\n",
    "}\n",
    "with open(ART_DIR / \"metrics.json\", \"w\") as f:\n",
    "    json.dump(metrics, f, indent=2)\n",
    "\n",
    "print(\"Saved: model_lgbm.joblib, metrics.json\")\n"
   ]
  },
  {
   "cell_type": "code",
   "execution_count": 76,
   "id": "ef7cf6b0-2dc6-4275-8fb3-4568b96bb740",
   "metadata": {},
   "outputs": [
    {
     "name": "stdout",
     "output_type": "stream",
     "text": [
      "Wrote README.md \n"
     ]
    }
   ],
   "source": [
    "import json, datetime\n",
    "from pathlib import Path\n",
    "\n",
    "ART_DIR = Path(\"artifacts\")\n",
    "with open(ART_DIR / \"metrics.json\") as f:\n",
    "    M = json.load(f)\n",
    "\n",
    "VAL_PRAUC  = M[\"val\"][\"pr_auc\"]\n",
    "VAL_ROCAUC = M[\"val\"][\"roc_auc\"]\n",
    "\n",
    "T_PRAUC  = M[\"test\"][\"pr_auc\"]\n",
    "T_ROCAUC = M[\"test\"][\"roc_auc\"]\n",
    "T_PREC   = M[\"test\"][\"precision\"]\n",
    "T_RECALL = M[\"test\"][\"recall\"]\n",
    "T_PK     = M[\"test\"][\"precision_at_0.5pct\"] if \"precision_at_0.5pct\" in M[\"test\"] else M[\"test\"].get(\"precision_at_0_5pct\", None)\n",
    "THR      = M[\"test\"][\"threshold\"]\n",
    "CM       = M[\"test\"][\"confusion_matrix\"]\n",
    "\n",
    "readme = (\n",
    "    \"# Fraud Detection (PaySim) — LightGBM\\n\\n\"\n",
    "    \"End-to-end fraud detection on the **PaySim** dataset (~6.3M transactions).\\n\"\n",
    "    \"Focus: **extreme class imbalance**, **time-aware split**, **business-oriented thresholding**, and **high-precision triage**.\\n\\n\"\n",
    "    \"##  Results\\n\\n\"\n",
    "    \"**Validation**\\n\"\n",
    "    f\"- PR-AUC: **{VAL_PRAUC:.4f}**\\n\"\n",
    "    f\"- ROC-AUC: **{VAL_ROCAUC:.6f}**\\n\\n\"\n",
    "    \"**Test**\\n\"\n",
    "    f\"- PR-AUC: **{T_PRAUC:.4f}**\\n\"\n",
    "    f\"- ROC-AUC: **{T_ROCAUC:.6f}**\\n\"\n",
    "    f\"- Threshold (from val, P≥90%): **{THR:.4f}**\\n\"\n",
    "    f\"- Precision (at threshold): **{T_PREC:.4f}**\\n\"\n",
    "    f\"- Recall (at threshold): **{T_RECALL:.4f}**\\n\"\n",
    "    f\"- Precision@Top 0.5%: **{(T_PK if T_PK is not None else float('nan')):.4f}**\\n\\n\"\n",
    "    f\"**Confusion Matrix (Test at threshold)**\\n`[[TN, FP], [FN, TP]] = {CM}`\\n\\n\"\n",
    "    '<img src=\"artifacts/pr_curve_test.png\" width=\"420\"> <img src=\"artifacts/roc_curve_test.png\" width=\"420\">\\n\\n'\n",
    "    \"##  Data\\n\"\n",
    "    \"**PaySim** simulated financial transactions with labels:\\n\"\n",
    "    \"- Features used: `step, type, amount, oldbalanceOrg, newbalanceOrg, oldbalanceDest, newbalanceDest`\\n\"\n",
    "    \"- Dropped IDs: `nameOrig, nameDest`; Dropped `isFlaggedFraud`\\n\"\n",
    "    \"- Target: `isFraud`\\n\\n\"\n",
    "    \"##  Methodology\\n\"\n",
    "    \"- **Time-aware split**: 70% Train → 10% Val → 20% Test (ordered by `step`)\\n\"\n",
    "    \"- **Model**: LightGBM (`class_weight='balanced'`) with early stopping\\n\"\n",
    "    \"- **Metrics**: PR-AUC primary; ROC-AUC secondary\\n\"\n",
    "    \"- **Thresholding**: choose threshold on **Val** to meet **Precision ≥ 90%**, then evaluate on **Test**\\n\"\n",
    "    \"- **Artifacts**: PR/ROC curves, confusion matrix, feature importance, saved model\\n\\n\"\n",
    "    \"## How to run\\n\"\n",
    "    \"1) Install deps\\n\"\n",
    "    \"```bash\\n\"\n",
    "    \"pip install pandas numpy scikit-learn lightgbm imbalanced-learn xgboost matplotlib joblib\\n\"\n",
    "    \"```\\n\"\n",
    "    \"2) Open the notebook and set the path to your PaySim CSV.\\n\"\n",
    "    \"3) Run cells top → bottom. Artifacts & metrics save to `artifacts/`.\\n\\n\"\n",
    "    \"##  Notes & Limitations\\n\"\n",
    "    \"- PaySim is simulated; production performance depends on real data distributions.\\n\"\n",
    "    \"- IDs were dropped to avoid overfitting and privacy leakage.\\n\"\n",
    "    \"- Always tune thresholds to **business costs** (review cost vs missed-fraud loss).\\n\\n\"\n",
    "    f\"_Last updated: {datetime.date.today().isoformat()}_\\n\"\n",
    ")\n",
    "\n",
    "Path(\"README.md\").write_text(readme, encoding=\"utf-8\")\n",
    "print(\"Wrote README.md \")\n"
   ]
  },
  {
   "cell_type": "code",
   "execution_count": null,
   "id": "0cae0bf7-f13f-49e7-b8f8-79a2da31807f",
   "metadata": {},
   "outputs": [],
   "source": []
  }
 ],
 "metadata": {
  "kernelspec": {
   "display_name": "Python 3 (ipykernel)",
   "language": "python",
   "name": "python3"
  },
  "language_info": {
   "codemirror_mode": {
    "name": "ipython",
    "version": 3
   },
   "file_extension": ".py",
   "mimetype": "text/x-python",
   "name": "python",
   "nbconvert_exporter": "python",
   "pygments_lexer": "ipython3",
   "version": "3.12.4"
  }
 },
 "nbformat": 4,
 "nbformat_minor": 5
}
